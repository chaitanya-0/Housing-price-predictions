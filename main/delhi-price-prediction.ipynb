{
 "cells": [
  {
   "cell_type": "code",
   "execution_count": 1,
   "metadata": {
    "_cell_guid": "b1076dfc-b9ad-4769-8c92-a6c4dae69d19",
    "_uuid": "8f2839f25d086af736a60e9eeb907d3b93b6e0e5",
    "execution": {
     "iopub.execute_input": "2020-09-12T18:44:25.649933Z",
     "iopub.status.busy": "2020-09-12T18:44:25.649239Z",
     "iopub.status.idle": "2020-09-12T18:44:25.657741Z",
     "shell.execute_reply": "2020-09-12T18:44:25.657105Z"
    },
    "papermill": {
     "duration": 0.03146,
     "end_time": "2020-09-12T18:44:25.657863",
     "exception": false,
     "start_time": "2020-09-12T18:44:25.626403",
     "status": "completed"
    },
    "tags": []
   },
   "outputs": [
    {
     "name": "stdout",
     "output_type": "stream",
     "text": [
      "/kaggle/input/housing-prices-in-metropolitan-areas-of-india/Bangalore.csv\n",
      "/kaggle/input/housing-prices-in-metropolitan-areas-of-india/Kolkata.csv\n",
      "/kaggle/input/housing-prices-in-metropolitan-areas-of-india/Hyderabad.csv\n",
      "/kaggle/input/housing-prices-in-metropolitan-areas-of-india/Delhi.csv\n",
      "/kaggle/input/housing-prices-in-metropolitan-areas-of-india/Mumbai.csv\n",
      "/kaggle/input/housing-prices-in-metropolitan-areas-of-india/Chennai.csv\n"
     ]
    }
   ],
   "source": [
    "# This Python 3 environment comes with many helpful analytics libraries installed\n",
    "# It is defined by the kaggle/python Docker image: https://github.com/kaggle/docker-python\n",
    "# For example, here's several helpful packages to load\n",
    "\n",
    "import numpy as np # linear algebra\n",
    "import pandas as pd # data processing, CSV file I/O (e.g. pd.read_csv)\n",
    "\n",
    "# Input data files are available in the read-only \"../input/\" directory\n",
    "# For example, running this (by clicking run or pressing Shift+Enter) will list all files under the input directory\n",
    "\n",
    "import os\n",
    "for dirname, _, filenames in os.walk('/kaggle/input'):\n",
    "    for filename in filenames:\n",
    "        print(os.path.join(dirname, filename))\n",
    "\n",
    "# You can write up to 5GB to the current directory (/kaggle/working/) that gets preserved as output when you create a version using \"Save & Run All\" \n",
    "# You can also write temporary files to /kaggle/temp/, but they won't be saved outside of the current session"
   ]
  },
  {
   "cell_type": "code",
   "execution_count": 2,
   "metadata": {
    "execution": {
     "iopub.execute_input": "2020-09-12T18:44:25.690792Z",
     "iopub.status.busy": "2020-09-12T18:44:25.690137Z",
     "iopub.status.idle": "2020-09-12T18:44:28.050475Z",
     "shell.execute_reply": "2020-09-12T18:44:28.049206Z"
    },
    "papermill": {
     "duration": 2.377386,
     "end_time": "2020-09-12T18:44:28.050610",
     "exception": false,
     "start_time": "2020-09-12T18:44:25.673224",
     "status": "completed"
    },
    "tags": []
   },
   "outputs": [],
   "source": [
    "import seaborn as sns\n",
    "from sklearn.preprocessing import LabelEncoder\n",
    "from sklearn.linear_model import LinearRegression\n",
    "from sklearn.model_selection import train_test_split\n",
    "from sklearn.metrics import r2_score, mean_squared_error\n",
    "import statsmodels.api as sm"
   ]
  },
  {
   "cell_type": "code",
   "execution_count": 3,
   "metadata": {
    "_cell_guid": "79c7e3d0-c299-4dcb-8224-4455121ee9b0",
    "_uuid": "d629ff2d2480ee46fbb7e2d37f6b5fab8052498a",
    "execution": {
     "iopub.execute_input": "2020-09-12T18:44:28.087570Z",
     "iopub.status.busy": "2020-09-12T18:44:28.086860Z",
     "iopub.status.idle": "2020-09-12T18:44:28.137400Z",
     "shell.execute_reply": "2020-09-12T18:44:28.137903Z"
    },
    "papermill": {
     "duration": 0.073036,
     "end_time": "2020-09-12T18:44:28.138077",
     "exception": false,
     "start_time": "2020-09-12T18:44:28.065041",
     "status": "completed"
    },
    "tags": []
   },
   "outputs": [],
   "source": [
    "delhi=pd.read_csv(\"/kaggle/input/housing-prices-in-metropolitan-areas-of-india/Delhi.csv\")"
   ]
  },
  {
   "cell_type": "code",
   "execution_count": 4,
   "metadata": {
    "execution": {
     "iopub.execute_input": "2020-09-12T18:44:28.178605Z",
     "iopub.status.busy": "2020-09-12T18:44:28.177916Z",
     "iopub.status.idle": "2020-09-12T18:44:28.192881Z",
     "shell.execute_reply": "2020-09-12T18:44:28.193716Z"
    },
    "papermill": {
     "duration": 0.041053,
     "end_time": "2020-09-12T18:44:28.193952",
     "exception": false,
     "start_time": "2020-09-12T18:44:28.152899",
     "status": "completed"
    },
    "tags": []
   },
   "outputs": [
    {
     "name": "stdout",
     "output_type": "stream",
     "text": [
      "         Price  Area          Location  No. of Bedrooms  Resale  \\\n",
      "0     10500000  1200  Sector 10 Dwarka                2       1   \n",
      "1      6000000  1000       Uttam Nagar                3       0   \n",
      "2     15000000  1350      Sarita Vihar                2       1   \n",
      "3      2500000   435       Uttam Nagar                2       0   \n",
      "4      5800000   900        Dwarka Mor                3       0   \n",
      "...        ...   ...               ...              ...     ...   \n",
      "4993   2500000   540       Madhu Vihar                2       1   \n",
      "4994   3000000   540       Madhu Vihar                2       1   \n",
      "4995   2600000   415  Sector 26 Dwarka                1       1   \n",
      "4996   5500000   415  Sector 26 Dwarka                1       1   \n",
      "4997   4200000   900       Uttam Nagar                3       1   \n",
      "\n",
      "      MaintenanceStaff  Gymnasium  SwimmingPool  LandscapedGardens  \\\n",
      "0                    0          1             0                  0   \n",
      "1                    0          0             0                  0   \n",
      "2                    0          0             0                  0   \n",
      "3                    0          0             0                  0   \n",
      "4                    0          0             0                  0   \n",
      "...                ...        ...           ...                ...   \n",
      "4993                 9          9             9                  9   \n",
      "4994                 9          9             9                  9   \n",
      "4995                 9          9             9                  9   \n",
      "4996                 9          9             9                  9   \n",
      "4997                 9          9             9                  9   \n",
      "\n",
      "      JoggingTrack  ...  LiftAvailable  BED  VaastuCompliant  Microwave  \\\n",
      "0                1  ...              1    0                1          0   \n",
      "1                0  ...              0    0                0          0   \n",
      "2                0  ...              0    0                0          0   \n",
      "3                0  ...              0    0                1          0   \n",
      "4                0  ...              1    0                0          0   \n",
      "...            ...  ...            ...  ...              ...        ...   \n",
      "4993             9  ...              9    9                9          9   \n",
      "4994             9  ...              9    9                9          9   \n",
      "4995             9  ...              9    9                9          9   \n",
      "4996             9  ...              9    9                9          9   \n",
      "4997             9  ...              9    9                9          9   \n",
      "\n",
      "      GolfCourse  TV  DiningTable  Sofa  Wardrobe  Refrigerator  \n",
      "0              0   0            0     0         0             0  \n",
      "1              0   0            0     0         0             0  \n",
      "2              0   0            0     0         0             0  \n",
      "3              0   0            0     0         0             0  \n",
      "4              0   0            0     0         0             0  \n",
      "...          ...  ..          ...   ...       ...           ...  \n",
      "4993           9   9            9     9         9             9  \n",
      "4994           9   9            9     9         9             9  \n",
      "4995           9   9            9     9         9             9  \n",
      "4996           9   9            9     9         9             9  \n",
      "4997           9   9            9     9         9             9  \n",
      "\n",
      "[4998 rows x 40 columns]\n"
     ]
    }
   ],
   "source": [
    "print(delhi)"
   ]
  },
  {
   "cell_type": "code",
   "execution_count": 5,
   "metadata": {
    "execution": {
     "iopub.execute_input": "2020-09-12T18:44:28.235348Z",
     "iopub.status.busy": "2020-09-12T18:44:28.234626Z",
     "iopub.status.idle": "2020-09-12T18:44:28.237576Z",
     "shell.execute_reply": "2020-09-12T18:44:28.238216Z"
    },
    "papermill": {
     "duration": 0.027705,
     "end_time": "2020-09-12T18:44:28.238358",
     "exception": false,
     "start_time": "2020-09-12T18:44:28.210653",
     "status": "completed"
    },
    "tags": []
   },
   "outputs": [
    {
     "data": {
      "text/plain": [
       "Index(['Price', 'Area', 'Location', 'No. of Bedrooms', 'Resale',\n",
       "       'MaintenanceStaff', 'Gymnasium', 'SwimmingPool', 'LandscapedGardens',\n",
       "       'JoggingTrack', 'RainWaterHarvesting', 'IndoorGames', 'ShoppingMall',\n",
       "       'Intercom', 'SportsFacility', 'ATM', 'ClubHouse', 'School',\n",
       "       '24X7Security', 'PowerBackup', 'CarParking', 'StaffQuarter',\n",
       "       'Cafeteria', 'MultipurposeRoom', 'Hospital', 'WashingMachine',\n",
       "       'Gasconnection', 'AC', 'Wifi', 'Children'splayarea', 'LiftAvailable',\n",
       "       'BED', 'VaastuCompliant', 'Microwave', 'GolfCourse', 'TV',\n",
       "       'DiningTable', 'Sofa', 'Wardrobe', 'Refrigerator'],\n",
       "      dtype='object')"
      ]
     },
     "execution_count": 5,
     "metadata": {},
     "output_type": "execute_result"
    }
   ],
   "source": [
    "delhi.columns"
   ]
  },
  {
   "cell_type": "code",
   "execution_count": 6,
   "metadata": {
    "execution": {
     "iopub.execute_input": "2020-09-12T18:44:28.274577Z",
     "iopub.status.busy": "2020-09-12T18:44:28.273872Z",
     "iopub.status.idle": "2020-09-12T18:44:28.283101Z",
     "shell.execute_reply": "2020-09-12T18:44:28.282488Z"
    },
    "papermill": {
     "duration": 0.029248,
     "end_time": "2020-09-12T18:44:28.283234",
     "exception": false,
     "start_time": "2020-09-12T18:44:28.253986",
     "status": "completed"
    },
    "tags": []
   },
   "outputs": [],
   "source": [
    "delhi.rename(columns={\"No. of Bedrooms\":\"Bedrooms\", \"24X7Security\":\"Security\",\"Children'splayarea\":\"Playarea\"}, inplace=True)"
   ]
  },
  {
   "cell_type": "code",
   "execution_count": 7,
   "metadata": {
    "execution": {
     "iopub.execute_input": "2020-09-12T18:44:28.322536Z",
     "iopub.status.busy": "2020-09-12T18:44:28.321694Z",
     "iopub.status.idle": "2020-09-12T18:44:28.325799Z",
     "shell.execute_reply": "2020-09-12T18:44:28.325121Z"
    },
    "papermill": {
     "duration": 0.026436,
     "end_time": "2020-09-12T18:44:28.325911",
     "exception": false,
     "start_time": "2020-09-12T18:44:28.299475",
     "status": "completed"
    },
    "tags": []
   },
   "outputs": [],
   "source": [
    "y1=np.log(delhi[\"Price\"])"
   ]
  },
  {
   "cell_type": "code",
   "execution_count": 8,
   "metadata": {
    "execution": {
     "iopub.execute_input": "2020-09-12T18:44:28.364881Z",
     "iopub.status.busy": "2020-09-12T18:44:28.364142Z",
     "iopub.status.idle": "2020-09-12T18:44:28.639305Z",
     "shell.execute_reply": "2020-09-12T18:44:28.638619Z"
    },
    "papermill": {
     "duration": 0.297386,
     "end_time": "2020-09-12T18:44:28.639433",
     "exception": false,
     "start_time": "2020-09-12T18:44:28.342047",
     "status": "completed"
    },
    "tags": []
   },
   "outputs": [
    {
     "data": {
      "text/plain": [
       "<matplotlib.axes._subplots.AxesSubplot at 0x7f8e330f7210>"
      ]
     },
     "execution_count": 8,
     "metadata": {},
     "output_type": "execute_result"
    },
    {
     "data": {
      "image/png": "[encoded data removed]",
      "text/plain": [
       "<Figure size 432x288 with 1 Axes>"
      ]
     },
     "metadata": {
      "needs_background": "light"
     },
     "output_type": "display_data"
    }
   ],
   "source": [
    "sns.regplot(x=\"Area\",y=y1,data=delhi,fit_reg=False)"
   ]
  },
  {
   "cell_type": "code",
   "execution_count": 9,
   "metadata": {
    "execution": {
     "iopub.execute_input": "2020-09-12T18:44:28.681456Z",
     "iopub.status.busy": "2020-09-12T18:44:28.680415Z",
     "iopub.status.idle": "2020-09-12T18:44:28.709190Z",
     "shell.execute_reply": "2020-09-12T18:44:28.708077Z"
    },
    "papermill": {
     "duration": 0.052147,
     "end_time": "2020-09-12T18:44:28.709344",
     "exception": false,
     "start_time": "2020-09-12T18:44:28.657197",
     "status": "completed"
    },
    "tags": []
   },
   "outputs": [],
   "source": [
    "delhi.drop(delhi[delhi[\"Area\"]>=8000].index,inplace=True)\n"
   ]
  },
  {
   "cell_type": "code",
   "execution_count": 10,
   "metadata": {
    "execution": {
     "iopub.execute_input": "2020-09-12T18:44:28.752096Z",
     "iopub.status.busy": "2020-09-12T18:44:28.750860Z",
     "iopub.status.idle": "2020-09-12T18:44:28.948977Z",
     "shell.execute_reply": "2020-09-12T18:44:28.948408Z"
    },
    "papermill": {
     "duration": 0.221662,
     "end_time": "2020-09-12T18:44:28.949115",
     "exception": false,
     "start_time": "2020-09-12T18:44:28.727453",
     "status": "completed"
    },
    "tags": []
   },
   "outputs": [
    {
     "data": {
      "text/plain": [
       "<matplotlib.axes._subplots.AxesSubplot at 0x7f8e32e22310>"
      ]
     },
     "execution_count": 10,
     "metadata": {},
     "output_type": "execute_result"
    },
    {
     "data": {
      "image/png": "[encoded data removed]",
      "text/plain": [
       "<Figure size 432x288 with 1 Axes>"
      ]
     },
     "metadata": {
      "needs_background": "light"
     },
     "output_type": "display_data"
    }
   ],
   "source": [
    "y1=np.log(delhi[\"Price\"])\n",
    "sns.regplot(x=\"Area\",y=y1,data=delhi,fit_reg=False)"
   ]
  },
  {
   "cell_type": "code",
   "execution_count": 11,
   "metadata": {
    "execution": {
     "iopub.execute_input": "2020-09-12T18:44:29.011387Z",
     "iopub.status.busy": "2020-09-12T18:44:29.010612Z",
     "iopub.status.idle": "2020-09-12T18:44:29.146338Z",
     "shell.execute_reply": "2020-09-12T18:44:29.145614Z"
    },
    "papermill": {
     "duration": 0.177566,
     "end_time": "2020-09-12T18:44:29.146458",
     "exception": false,
     "start_time": "2020-09-12T18:44:28.968892",
     "status": "completed"
    },
    "tags": []
   },
   "outputs": [
    {
     "data": {
      "text/plain": [
       "<matplotlib.axes._subplots.AxesSubplot at 0x7f8e30d94a10>"
      ]
     },
     "execution_count": 11,
     "metadata": {},
     "output_type": "execute_result"
    },
    {
     "data": {
      "image/png": "[encoded data removed]",
      "text/plain": [
       "<Figure size 432x288 with 1 Axes>"
      ]
     },
     "metadata": {
      "needs_background": "light"
     },
     "output_type": "display_data"
    }
   ],
   "source": [
    "sns.countplot(x=delhi[\"IndoorGames\"],data=delhi)"
   ]
  },
  {
   "cell_type": "code",
   "execution_count": 12,
   "metadata": {
    "execution": {
     "iopub.execute_input": "2020-09-12T18:44:29.205595Z",
     "iopub.status.busy": "2020-09-12T18:44:29.203688Z",
     "iopub.status.idle": "2020-09-12T18:44:29.393277Z",
     "shell.execute_reply": "2020-09-12T18:44:29.392640Z"
    },
    "papermill": {
     "duration": 0.226529,
     "end_time": "2020-09-12T18:44:29.393428",
     "exception": false,
     "start_time": "2020-09-12T18:44:29.166899",
     "status": "completed"
    },
    "tags": []
   },
   "outputs": [
    {
     "data": {
      "text/plain": [
       "<matplotlib.axes._subplots.AxesSubplot at 0x7f8e30d791d0>"
      ]
     },
     "execution_count": 12,
     "metadata": {},
     "output_type": "execute_result"
    },
    {
     "data": {
      "image/png": "[encoded data removed]",
      "text/plain": [
       "<Figure size 432x288 with 1 Axes>"
      ]
     },
     "metadata": {
      "needs_background": "light"
     },
     "output_type": "display_data"
    }
   ],
   "source": [
    "sns.countplot(x=delhi[\"Gymnasium\"],data=delhi)"
   ]
  },
  {
   "cell_type": "code",
   "execution_count": 13,
   "metadata": {
    "execution": {
     "iopub.execute_input": "2020-09-12T18:44:29.445700Z",
     "iopub.status.busy": "2020-09-12T18:44:29.444835Z",
     "iopub.status.idle": "2020-09-12T18:44:29.580352Z",
     "shell.execute_reply": "2020-09-12T18:44:29.579762Z"
    },
    "papermill": {
     "duration": 0.164648,
     "end_time": "2020-09-12T18:44:29.580477",
     "exception": false,
     "start_time": "2020-09-12T18:44:29.415829",
     "status": "completed"
    },
    "tags": []
   },
   "outputs": [
    {
     "data": {
      "text/plain": [
       "<matplotlib.axes._subplots.AxesSubplot at 0x7f8e30cdf950>"
      ]
     },
     "execution_count": 13,
     "metadata": {},
     "output_type": "execute_result"
    },
    {
     "data": {
      "image/png": "[encoded data removed]",
      "text/plain": [
       "<Figure size 432x288 with 1 Axes>"
      ]
     },
     "metadata": {
      "needs_background": "light"
     },
     "output_type": "display_data"
    }
   ],
   "source": [
    "sns.countplot(x=\"SwimmingPool\",data=delhi)"
   ]
  },
  {
   "cell_type": "code",
   "execution_count": 14,
   "metadata": {
    "execution": {
     "iopub.execute_input": "2020-09-12T18:44:29.646021Z",
     "iopub.status.busy": "2020-09-12T18:44:29.644654Z",
     "iopub.status.idle": "2020-09-12T18:44:29.784886Z",
     "shell.execute_reply": "2020-09-12T18:44:29.784300Z"
    },
    "papermill": {
     "duration": 0.180196,
     "end_time": "2020-09-12T18:44:29.785004",
     "exception": false,
     "start_time": "2020-09-12T18:44:29.604808",
     "status": "completed"
    },
    "tags": []
   },
   "outputs": [
    {
     "data": {
      "text/plain": [
       "<matplotlib.axes._subplots.AxesSubplot at 0x7f8e30ccb690>"
      ]
     },
     "execution_count": 14,
     "metadata": {},
     "output_type": "execute_result"
    },
    {
     "data": {
      "image/png": "[encoded data removed]",
      "text/plain": [
       "<Figure size 432x288 with 1 Axes>"
      ]
     },
     "metadata": {
      "needs_background": "light"
     },
     "output_type": "display_data"
    }
   ],
   "source": [
    "sns.countplot(x=delhi[\"IndoorGames\"],data=delhi)"
   ]
  },
  {
   "cell_type": "markdown",
   "metadata": {
    "papermill": {
     "duration": 0.024186,
     "end_time": "2020-09-12T18:44:29.834419",
     "exception": false,
     "start_time": "2020-09-12T18:44:29.810233",
     "status": "completed"
    },
    "tags": []
   },
   "source": [
    "Similarly for other aminities we can see that the number of not mentioned are very large. This will not help us in predicting the accurate price of the property. So we will remove all the rows containing not mentioned or 9"
   ]
  },
  {
   "cell_type": "code",
   "execution_count": 15,
   "metadata": {
    "execution": {
     "iopub.execute_input": "2020-09-12T18:44:29.889579Z",
     "iopub.status.busy": "2020-09-12T18:44:29.888844Z",
     "iopub.status.idle": "2020-09-12T18:44:29.907548Z",
     "shell.execute_reply": "2020-09-12T18:44:29.906955Z"
    },
    "papermill": {
     "duration": 0.049093,
     "end_time": "2020-09-12T18:44:29.907672",
     "exception": false,
     "start_time": "2020-09-12T18:44:29.858579",
     "status": "completed"
    },
    "tags": []
   },
   "outputs": [],
   "source": [
    "delhi.replace(9,np.nan,inplace=True)\n",
    "delhi.dropna(axis=0,how=\"any\",inplace=True)"
   ]
  },
  {
   "cell_type": "code",
   "execution_count": 16,
   "metadata": {
    "execution": {
     "iopub.execute_input": "2020-09-12T18:44:29.969481Z",
     "iopub.status.busy": "2020-09-12T18:44:29.968747Z",
     "iopub.status.idle": "2020-09-12T18:44:30.067642Z",
     "shell.execute_reply": "2020-09-12T18:44:30.066612Z"
    },
    "papermill": {
     "duration": 0.135437,
     "end_time": "2020-09-12T18:44:30.067822",
     "exception": false,
     "start_time": "2020-09-12T18:44:29.932385",
     "status": "completed"
    },
    "tags": []
   },
   "outputs": [
    {
     "name": "stdout",
     "output_type": "stream",
     "text": [
      "                            OLS Regression Results                            \n",
      "==============================================================================\n",
      "Dep. Variable:                  Price   R-squared:                       0.838\n",
      "Model:                            OLS   Adj. R-squared:                  0.836\n",
      "Method:                 Least Squares   F-statistic:                     538.4\n",
      "Date:                Sat, 12 Sep 2020   Prob (F-statistic):               0.00\n",
      "Time:                        18:44:30   Log-Likelihood:                -583.76\n",
      "No. Observations:                2002   AIC:                             1208.\n",
      "Df Residuals:                    1982   BIC:                             1320.\n",
      "Df Model:                          19                                         \n",
      "Covariance Type:            nonrobust                                         \n",
      "=======================================================================================\n",
      "                          coef    std err          t      P>|t|      [0.025      0.975]\n",
      "---------------------------------------------------------------------------------------\n",
      "const                  14.3230      0.035    411.836      0.000      14.255      14.391\n",
      "Area                    0.0007   2.22e-05     33.563      0.000       0.001       0.001\n",
      "Location                0.0013      0.000      5.650      0.000       0.001       0.002\n",
      "Bedrooms                0.1344      0.015      9.034      0.000       0.105       0.164\n",
      "Resale                  0.2093      0.021      9.955      0.000       0.168       0.250\n",
      "Gymnasium              -0.0944      0.023     -4.042      0.000      -0.140      -0.049\n",
      "JoggingTrack            0.1103      0.059      1.858      0.063      -0.006       0.227\n",
      "RainWaterHarvesting     0.3034      0.040      7.493      0.000       0.224       0.383\n",
      "IndoorGames            -0.2734      0.090     -3.047      0.002      -0.449      -0.097\n",
      "Intercom               -0.0680      0.020     -3.477      0.001      -0.106      -0.030\n",
      "School                  0.5979      0.250      2.388      0.017       0.107       1.089\n",
      "Security               -0.2633      0.056     -4.703      0.000      -0.373      -0.153\n",
      "PowerBackup             0.0702      0.024      2.972      0.003       0.024       0.117\n",
      "CarParking              0.1280      0.022      5.787      0.000       0.085       0.171\n",
      "Hospital               -0.5228      0.263     -1.990      0.047      -1.038      -0.008\n",
      "Gasconnection           0.2493      0.023     11.062      0.000       0.205       0.293\n",
      "AC                      0.1575      0.029      5.440      0.000       0.101       0.214\n",
      "Playarea                0.2115      0.023      9.027      0.000       0.166       0.257\n",
      "LiftAvailable          -0.2332      0.017    -13.652      0.000      -0.267      -0.200\n",
      "VaastuCompliant        -0.1580      0.024     -6.531      0.000      -0.205      -0.111\n",
      "==============================================================================\n",
      "Omnibus:                      190.928   Durbin-Watson:                   1.288\n",
      "Prob(Omnibus):                  0.000   Jarque-Bera (JB):              497.291\n",
      "Skew:                           0.533   Prob(JB):                    1.03e-108\n",
      "Kurtosis:                       5.196   Cond. No.                     6.68e+04\n",
      "==============================================================================\n",
      "\n",
      "Warnings:\n",
      "[1] Standard Errors assume that the covariance matrix of the errors is correctly specified.\n",
      "[2] The condition number is large, 6.68e+04. This might indicate that there are\n",
      "strong multicollinearity or other numerical problems.\n"
     ]
    }
   ],
   "source": [
    "le_location=LabelEncoder()\n",
    "delhi[\"Location\"]=le_location.fit_transform(delhi[\"Location\"])\n",
    "\n",
    "\n",
    "x1=delhi.drop([\"Price\",\"MaintenanceStaff\",\"SwimmingPool\",\"LandscapedGardens\",\"ShoppingMall\",\"SportsFacility\",\"ATM\",\"ClubHouse\",\"StaffQuarter\",\"Cafeteria\",\"MultipurposeRoom\",\"WashingMachine\",\"Wifi\",\"BED\",\"Microwave\",\"DiningTable\",\"Wardrobe\",\"Sofa\",\"Refrigerator\",\"GolfCourse\",\"TV\"],axis=1,inplace=False)\n",
    "x1=sm.add_constant(x1)\n",
    "y1=np.log(delhi[\"Price\"])\n",
    "model=sm.OLS(y1,x1).fit()\n",
    "print(model.summary())"
   ]
  },
  {
   "cell_type": "code",
   "execution_count": 17,
   "metadata": {
    "execution": {
     "iopub.execute_input": "2020-09-12T18:44:30.135933Z",
     "iopub.status.busy": "2020-09-12T18:44:30.131072Z",
     "iopub.status.idle": "2020-09-12T18:44:30.358144Z",
     "shell.execute_reply": "2020-09-12T18:44:30.357394Z"
    },
    "papermill": {
     "duration": 0.260558,
     "end_time": "2020-09-12T18:44:30.358311",
     "exception": false,
     "start_time": "2020-09-12T18:44:30.097753",
     "status": "completed"
    },
    "tags": []
   },
   "outputs": [
    {
     "data": {
      "text/plain": [
       "<matplotlib.axes._subplots.AxesSubplot at 0x7f8e30394450>"
      ]
     },
     "execution_count": 17,
     "metadata": {},
     "output_type": "execute_result"
    },
    {
     "data": {
      "image/png": "[encoded data removed]",
      "text/plain": [
       "<Figure size 432x288 with 1 Axes>"
      ]
     },
     "metadata": {
      "needs_background": "light"
     },
     "output_type": "display_data"
    }
   ],
   "source": [
    "delhi.drop([\"MaintenanceStaff\",\"SwimmingPool\",\"LandscapedGardens\",\"ShoppingMall\",\"SportsFacility\",\"ATM\",\"ClubHouse\",\"StaffQuarter\",\"Cafeteria\",\"MultipurposeRoom\",\"WashingMachine\",\"Wifi\",\"BED\",\"Microwave\",\"DiningTable\",\"Wardrobe\",\"Sofa\",\"Refrigerator\",\"GolfCourse\",\"TV\"],axis=1,inplace=True)\n",
    "\n",
    "x=delhi.drop(\"Price\",axis=1,inplace=False)\n",
    "x=x.values\n",
    "y=np.log(delhi[\"Price\"]).values\n",
    "x_train,x_test,y_train,y_test=train_test_split(x,y,test_size=0.2,random_state=0)\n",
    "lgr=LinearRegression(fit_intercept=True)\n",
    "model_1=lgr.fit(x_train,y_train)\n",
    "prediction=lgr.predict(x_test)\n",
    "residual=y_test-prediction\n",
    "sns.regplot(prediction,residual,fit_reg=False)"
   ]
  },
  {
   "cell_type": "code",
   "execution_count": 18,
   "metadata": {
    "execution": {
     "iopub.execute_input": "2020-09-12T18:44:30.423863Z",
     "iopub.status.busy": "2020-09-12T18:44:30.423005Z",
     "iopub.status.idle": "2020-09-12T18:44:30.425773Z",
     "shell.execute_reply": "2020-09-12T18:44:30.426472Z"
    },
    "papermill": {
     "duration": 0.038807,
     "end_time": "2020-09-12T18:44:30.426626",
     "exception": false,
     "start_time": "2020-09-12T18:44:30.387819",
     "status": "completed"
    },
    "tags": []
   },
   "outputs": [
    {
     "name": "stdout",
     "output_type": "stream",
     "text": [
      "0.8576641158515689\n"
     ]
    }
   ],
   "source": [
    "print(model_1.score(x_test,y_test))"
   ]
  },
  {
   "cell_type": "code",
   "execution_count": 19,
   "metadata": {
    "execution": {
     "iopub.execute_input": "2020-09-12T18:44:30.484488Z",
     "iopub.status.busy": "2020-09-12T18:44:30.483705Z",
     "iopub.status.idle": "2020-09-12T18:44:30.491367Z",
     "shell.execute_reply": "2020-09-12T18:44:30.490444Z"
    },
    "papermill": {
     "duration": 0.037769,
     "end_time": "2020-09-12T18:44:30.491541",
     "exception": false,
     "start_time": "2020-09-12T18:44:30.453772",
     "status": "completed"
    },
    "tags": []
   },
   "outputs": [
    {
     "name": "stdout",
     "output_type": "stream",
     "text": [
      "0.8576641158515689\n"
     ]
    }
   ],
   "source": [
    "print(r2_score(y_test,prediction))"
   ]
  },
  {
   "cell_type": "code",
   "execution_count": 20,
   "metadata": {
    "execution": {
     "iopub.execute_input": "2020-09-12T18:44:30.553807Z",
     "iopub.status.busy": "2020-09-12T18:44:30.552932Z",
     "iopub.status.idle": "2020-09-12T18:44:30.556807Z",
     "shell.execute_reply": "2020-09-12T18:44:30.556135Z"
    },
    "papermill": {
     "duration": 0.037107,
     "end_time": "2020-09-12T18:44:30.556926",
     "exception": false,
     "start_time": "2020-09-12T18:44:30.519819",
     "status": "completed"
    },
    "tags": []
   },
   "outputs": [
    {
     "name": "stdout",
     "output_type": "stream",
     "text": [
      "0.291147935425969\n"
     ]
    }
   ],
   "source": [
    "print(np.sqrt(mean_squared_error(y_test,prediction)))"
   ]
  }
 ],
 "metadata": {
  "kernelspec": {
   "display_name": "Python 3",
   "language": "python",
   "name": "python3"
  },
  "language_info": {
   "codemirror_mode": {
    "name": "ipython",
    "version": 3
   },
   "file_extension": ".py",
   "mimetype": "text/x-python",
   "name": "python",
   "nbconvert_exporter": "python",
   "pygments_lexer": "ipython3",
   "version": "3.7.6"
  },
  "papermill": {
   "duration": 11.08613,
   "end_time": "2020-09-12T18:44:31.594396",
   "environment_variables": {},
   "exception": null,
   "input_path": "__notebook__.ipynb",
   "output_path": "__notebook__.ipynb",
   "parameters": {},
   "start_time": "2020-09-12T18:44:20.508266",
   "version": "2.1.0"
  }
 },
 "nbformat": 4,
 "nbformat_minor": 4
}
