{
 "cells": [
  {
   "cell_type": "code",
   "execution_count": 125,
   "metadata": {
    "_cell_guid": "b1076dfc-b9ad-4769-8c92-a6c4dae69d19",
    "_uuid": "8f2839f25d086af736a60e9eeb907d3b93b6e0e5",
    "execution": {
     "iopub.execute_input": "2020-09-12T18:44:25.649933Z",
     "iopub.status.busy": "2020-09-12T18:44:25.649239Z",
     "iopub.status.idle": "2020-09-12T18:44:25.657741Z",
     "shell.execute_reply": "2020-09-12T18:44:25.657105Z"
    },
    "papermill": {
     "duration": 0.03146,
     "end_time": "2020-09-12T18:44:25.657863",
     "exception": false,
     "start_time": "2020-09-12T18:44:25.626403",
     "status": "completed"
    },
    "tags": []
   },
   "outputs": [],
   "source": [
    "import numpy as np # linear algebra\n",
    "import pandas as pd # data processing, CSV file I/O (e.g. pd.read_csv)"
   ]
  },
  {
   "cell_type": "code",
   "execution_count": 126,
   "metadata": {
    "execution": {
     "iopub.execute_input": "2020-09-12T18:44:25.690792Z",
     "iopub.status.busy": "2020-09-12T18:44:25.690137Z",
     "iopub.status.idle": "2020-09-12T18:44:28.050475Z",
     "shell.execute_reply": "2020-09-12T18:44:28.049206Z"
    },
    "papermill": {
     "duration": 2.377386,
     "end_time": "2020-09-12T18:44:28.050610",
     "exception": false,
     "start_time": "2020-09-12T18:44:25.673224",
     "status": "completed"
    },
    "tags": []
   },
   "outputs": [],
   "source": [
    "import seaborn as sns\n",
    "from sklearn.preprocessing import LabelEncoder\n",
    "from sklearn.linear_model import LinearRegression\n",
    "from sklearn.model_selection import train_test_split\n",
    "from sklearn.metrics import r2_score, mean_squared_error\n",
    "import statsmodels.api as sm"
   ]
  },
  {
   "cell_type": "code",
   "execution_count": 127,
   "metadata": {
    "_cell_guid": "79c7e3d0-c299-4dcb-8224-4455121ee9b0",
    "_uuid": "d629ff2d2480ee46fbb7e2d37f6b5fab8052498a",
    "execution": {
     "iopub.execute_input": "2020-09-12T18:44:28.087570Z",
     "iopub.status.busy": "2020-09-12T18:44:28.086860Z",
     "iopub.status.idle": "2020-09-12T18:44:28.137400Z",
     "shell.execute_reply": "2020-09-12T18:44:28.137903Z"
    },
    "papermill": {
     "duration": 0.073036,
     "end_time": "2020-09-12T18:44:28.138077",
     "exception": false,
     "start_time": "2020-09-12T18:44:28.065041",
     "status": "completed"
    },
    "tags": []
   },
   "outputs": [],
   "source": [
    "delhi=pd.read_csv(\"../cities/Delhi.csv\")"
   ]
  },
  {
   "cell_type": "code",
   "execution_count": 128,
   "metadata": {
    "execution": {
     "iopub.execute_input": "2020-09-12T18:44:28.178605Z",
     "iopub.status.busy": "2020-09-12T18:44:28.177916Z",
     "iopub.status.idle": "2020-09-12T18:44:28.192881Z",
     "shell.execute_reply": "2020-09-12T18:44:28.193716Z"
    },
    "papermill": {
     "duration": 0.041053,
     "end_time": "2020-09-12T18:44:28.193952",
     "exception": false,
     "start_time": "2020-09-12T18:44:28.152899",
     "status": "completed"
    },
    "tags": []
   },
   "outputs": [
    {
     "data": {
      "text/html": [
       "<div>\n",
       "<style scoped>\n",
       "    .dataframe tbody tr th:only-of-type {\n",
       "        vertical-align: middle;\n",
       "    }\n",
       "\n",
       "    .dataframe tbody tr th {\n",
       "        vertical-align: top;\n",
       "    }\n",
       "\n",
       "    .dataframe thead th {\n",
       "        text-align: right;\n",
       "    }\n",
       "</style>\n",
       "<table border=\"1\" class=\"dataframe\">\n",
       "  <thead>\n",
       "    <tr style=\"text-align: right;\">\n",
       "      <th></th>\n",
       "      <th>Price</th>\n",
       "      <th>Area</th>\n",
       "      <th>Location</th>\n",
       "      <th>No. of Bedrooms</th>\n",
       "      <th>Resale</th>\n",
       "      <th>MaintenanceStaff</th>\n",
       "      <th>Gymnasium</th>\n",
       "      <th>SwimmingPool</th>\n",
       "      <th>LandscapedGardens</th>\n",
       "      <th>JoggingTrack</th>\n",
       "      <th>...</th>\n",
       "      <th>LiftAvailable</th>\n",
       "      <th>BED</th>\n",
       "      <th>VaastuCompliant</th>\n",
       "      <th>Microwave</th>\n",
       "      <th>GolfCourse</th>\n",
       "      <th>TV</th>\n",
       "      <th>DiningTable</th>\n",
       "      <th>Sofa</th>\n",
       "      <th>Wardrobe</th>\n",
       "      <th>Refrigerator</th>\n",
       "    </tr>\n",
       "  </thead>\n",
       "  <tbody>\n",
       "    <tr>\n",
       "      <th>0</th>\n",
       "      <td>10500000</td>\n",
       "      <td>1200</td>\n",
       "      <td>Sector 10 Dwarka</td>\n",
       "      <td>2</td>\n",
       "      <td>1</td>\n",
       "      <td>0</td>\n",
       "      <td>1</td>\n",
       "      <td>0</td>\n",
       "      <td>0</td>\n",
       "      <td>1</td>\n",
       "      <td>...</td>\n",
       "      <td>1</td>\n",
       "      <td>0</td>\n",
       "      <td>1</td>\n",
       "      <td>0</td>\n",
       "      <td>0</td>\n",
       "      <td>0</td>\n",
       "      <td>0</td>\n",
       "      <td>0</td>\n",
       "      <td>0</td>\n",
       "      <td>0</td>\n",
       "    </tr>\n",
       "    <tr>\n",
       "      <th>1</th>\n",
       "      <td>6000000</td>\n",
       "      <td>1000</td>\n",
       "      <td>Uttam Nagar</td>\n",
       "      <td>3</td>\n",
       "      <td>0</td>\n",
       "      <td>0</td>\n",
       "      <td>0</td>\n",
       "      <td>0</td>\n",
       "      <td>0</td>\n",
       "      <td>0</td>\n",
       "      <td>...</td>\n",
       "      <td>0</td>\n",
       "      <td>0</td>\n",
       "      <td>0</td>\n",
       "      <td>0</td>\n",
       "      <td>0</td>\n",
       "      <td>0</td>\n",
       "      <td>0</td>\n",
       "      <td>0</td>\n",
       "      <td>0</td>\n",
       "      <td>0</td>\n",
       "    </tr>\n",
       "    <tr>\n",
       "      <th>2</th>\n",
       "      <td>15000000</td>\n",
       "      <td>1350</td>\n",
       "      <td>Sarita Vihar</td>\n",
       "      <td>2</td>\n",
       "      <td>1</td>\n",
       "      <td>0</td>\n",
       "      <td>0</td>\n",
       "      <td>0</td>\n",
       "      <td>0</td>\n",
       "      <td>0</td>\n",
       "      <td>...</td>\n",
       "      <td>0</td>\n",
       "      <td>0</td>\n",
       "      <td>0</td>\n",
       "      <td>0</td>\n",
       "      <td>0</td>\n",
       "      <td>0</td>\n",
       "      <td>0</td>\n",
       "      <td>0</td>\n",
       "      <td>0</td>\n",
       "      <td>0</td>\n",
       "    </tr>\n",
       "    <tr>\n",
       "      <th>3</th>\n",
       "      <td>2500000</td>\n",
       "      <td>435</td>\n",
       "      <td>Uttam Nagar</td>\n",
       "      <td>2</td>\n",
       "      <td>0</td>\n",
       "      <td>0</td>\n",
       "      <td>0</td>\n",
       "      <td>0</td>\n",
       "      <td>0</td>\n",
       "      <td>0</td>\n",
       "      <td>...</td>\n",
       "      <td>0</td>\n",
       "      <td>0</td>\n",
       "      <td>1</td>\n",
       "      <td>0</td>\n",
       "      <td>0</td>\n",
       "      <td>0</td>\n",
       "      <td>0</td>\n",
       "      <td>0</td>\n",
       "      <td>0</td>\n",
       "      <td>0</td>\n",
       "    </tr>\n",
       "    <tr>\n",
       "      <th>4</th>\n",
       "      <td>5800000</td>\n",
       "      <td>900</td>\n",
       "      <td>Dwarka Mor</td>\n",
       "      <td>3</td>\n",
       "      <td>0</td>\n",
       "      <td>0</td>\n",
       "      <td>0</td>\n",
       "      <td>0</td>\n",
       "      <td>0</td>\n",
       "      <td>0</td>\n",
       "      <td>...</td>\n",
       "      <td>1</td>\n",
       "      <td>0</td>\n",
       "      <td>0</td>\n",
       "      <td>0</td>\n",
       "      <td>0</td>\n",
       "      <td>0</td>\n",
       "      <td>0</td>\n",
       "      <td>0</td>\n",
       "      <td>0</td>\n",
       "      <td>0</td>\n",
       "    </tr>\n",
       "    <tr>\n",
       "      <th>5</th>\n",
       "      <td>15800000</td>\n",
       "      <td>1800</td>\n",
       "      <td>Sector 7 Dwarka</td>\n",
       "      <td>4</td>\n",
       "      <td>1</td>\n",
       "      <td>0</td>\n",
       "      <td>1</td>\n",
       "      <td>1</td>\n",
       "      <td>0</td>\n",
       "      <td>1</td>\n",
       "      <td>...</td>\n",
       "      <td>1</td>\n",
       "      <td>0</td>\n",
       "      <td>1</td>\n",
       "      <td>0</td>\n",
       "      <td>0</td>\n",
       "      <td>0</td>\n",
       "      <td>0</td>\n",
       "      <td>0</td>\n",
       "      <td>0</td>\n",
       "      <td>0</td>\n",
       "    </tr>\n",
       "    <tr>\n",
       "      <th>6</th>\n",
       "      <td>15400000</td>\n",
       "      <td>1500</td>\n",
       "      <td>Sector 6 Dwarka</td>\n",
       "      <td>3</td>\n",
       "      <td>1</td>\n",
       "      <td>0</td>\n",
       "      <td>0</td>\n",
       "      <td>0</td>\n",
       "      <td>0</td>\n",
       "      <td>0</td>\n",
       "      <td>...</td>\n",
       "      <td>0</td>\n",
       "      <td>0</td>\n",
       "      <td>0</td>\n",
       "      <td>0</td>\n",
       "      <td>0</td>\n",
       "      <td>0</td>\n",
       "      <td>0</td>\n",
       "      <td>0</td>\n",
       "      <td>0</td>\n",
       "      <td>0</td>\n",
       "    </tr>\n",
       "    <tr>\n",
       "      <th>7</th>\n",
       "      <td>13500000</td>\n",
       "      <td>1800</td>\n",
       "      <td>Sector 5 Dwarka</td>\n",
       "      <td>3</td>\n",
       "      <td>1</td>\n",
       "      <td>0</td>\n",
       "      <td>1</td>\n",
       "      <td>0</td>\n",
       "      <td>0</td>\n",
       "      <td>0</td>\n",
       "      <td>...</td>\n",
       "      <td>0</td>\n",
       "      <td>0</td>\n",
       "      <td>0</td>\n",
       "      <td>0</td>\n",
       "      <td>0</td>\n",
       "      <td>0</td>\n",
       "      <td>0</td>\n",
       "      <td>0</td>\n",
       "      <td>0</td>\n",
       "      <td>0</td>\n",
       "    </tr>\n",
       "    <tr>\n",
       "      <th>8</th>\n",
       "      <td>6500000</td>\n",
       "      <td>1000</td>\n",
       "      <td>Sector 23 Rohini</td>\n",
       "      <td>3</td>\n",
       "      <td>0</td>\n",
       "      <td>0</td>\n",
       "      <td>0</td>\n",
       "      <td>0</td>\n",
       "      <td>0</td>\n",
       "      <td>0</td>\n",
       "      <td>...</td>\n",
       "      <td>1</td>\n",
       "      <td>0</td>\n",
       "      <td>0</td>\n",
       "      <td>0</td>\n",
       "      <td>0</td>\n",
       "      <td>0</td>\n",
       "      <td>0</td>\n",
       "      <td>0</td>\n",
       "      <td>0</td>\n",
       "      <td>0</td>\n",
       "    </tr>\n",
       "    <tr>\n",
       "      <th>9</th>\n",
       "      <td>12500000</td>\n",
       "      <td>1300</td>\n",
       "      <td>Mayur Vihar II</td>\n",
       "      <td>2</td>\n",
       "      <td>1</td>\n",
       "      <td>0</td>\n",
       "      <td>0</td>\n",
       "      <td>0</td>\n",
       "      <td>0</td>\n",
       "      <td>0</td>\n",
       "      <td>...</td>\n",
       "      <td>0</td>\n",
       "      <td>0</td>\n",
       "      <td>0</td>\n",
       "      <td>0</td>\n",
       "      <td>0</td>\n",
       "      <td>0</td>\n",
       "      <td>0</td>\n",
       "      <td>0</td>\n",
       "      <td>0</td>\n",
       "      <td>0</td>\n",
       "    </tr>\n",
       "  </tbody>\n",
       "</table>\n",
       "<p>10 rows × 40 columns</p>\n",
       "</div>"
      ],
      "text/plain": [
       "      Price  Area          Location  No. of Bedrooms  Resale  \\\n",
       "0  10500000  1200  Sector 10 Dwarka                2       1   \n",
       "1   6000000  1000       Uttam Nagar                3       0   \n",
       "2  15000000  1350      Sarita Vihar                2       1   \n",
       "3   2500000   435       Uttam Nagar                2       0   \n",
       "4   5800000   900        Dwarka Mor                3       0   \n",
       "5  15800000  1800   Sector 7 Dwarka                4       1   \n",
       "6  15400000  1500   Sector 6 Dwarka                3       1   \n",
       "7  13500000  1800   Sector 5 Dwarka                3       1   \n",
       "8   6500000  1000  Sector 23 Rohini                3       0   \n",
       "9  12500000  1300    Mayur Vihar II                2       1   \n",
       "\n",
       "   MaintenanceStaff  Gymnasium  SwimmingPool  LandscapedGardens  JoggingTrack  \\\n",
       "0                 0          1             0                  0             1   \n",
       "1                 0          0             0                  0             0   \n",
       "2                 0          0             0                  0             0   \n",
       "3                 0          0             0                  0             0   \n",
       "4                 0          0             0                  0             0   \n",
       "5                 0          1             1                  0             1   \n",
       "6                 0          0             0                  0             0   \n",
       "7                 0          1             0                  0             0   \n",
       "8                 0          0             0                  0             0   \n",
       "9                 0          0             0                  0             0   \n",
       "\n",
       "   ...  LiftAvailable  BED  VaastuCompliant  Microwave  GolfCourse  TV  \\\n",
       "0  ...              1    0                1          0           0   0   \n",
       "1  ...              0    0                0          0           0   0   \n",
       "2  ...              0    0                0          0           0   0   \n",
       "3  ...              0    0                1          0           0   0   \n",
       "4  ...              1    0                0          0           0   0   \n",
       "5  ...              1    0                1          0           0   0   \n",
       "6  ...              0    0                0          0           0   0   \n",
       "7  ...              0    0                0          0           0   0   \n",
       "8  ...              1    0                0          0           0   0   \n",
       "9  ...              0    0                0          0           0   0   \n",
       "\n",
       "   DiningTable  Sofa  Wardrobe  Refrigerator  \n",
       "0            0     0         0             0  \n",
       "1            0     0         0             0  \n",
       "2            0     0         0             0  \n",
       "3            0     0         0             0  \n",
       "4            0     0         0             0  \n",
       "5            0     0         0             0  \n",
       "6            0     0         0             0  \n",
       "7            0     0         0             0  \n",
       "8            0     0         0             0  \n",
       "9            0     0         0             0  \n",
       "\n",
       "[10 rows x 40 columns]"
      ]
     },
     "execution_count": 128,
     "metadata": {},
     "output_type": "execute_result"
    }
   ],
   "source": [
    "delhi.head(10)"
   ]
  },
  {
   "cell_type": "code",
   "execution_count": 129,
   "metadata": {
    "execution": {
     "iopub.execute_input": "2020-09-12T18:44:28.235348Z",
     "iopub.status.busy": "2020-09-12T18:44:28.234626Z",
     "iopub.status.idle": "2020-09-12T18:44:28.237576Z",
     "shell.execute_reply": "2020-09-12T18:44:28.238216Z"
    },
    "papermill": {
     "duration": 0.027705,
     "end_time": "2020-09-12T18:44:28.238358",
     "exception": false,
     "start_time": "2020-09-12T18:44:28.210653",
     "status": "completed"
    },
    "tags": []
   },
   "outputs": [
    {
     "name": "stdout",
     "output_type": "stream",
     "text": [
      "Index(['Price', 'Area', 'Location', 'No. of Bedrooms', 'Resale',\n",
      "       'MaintenanceStaff', 'Gymnasium', 'SwimmingPool', 'LandscapedGardens',\n",
      "       'JoggingTrack', 'RainWaterHarvesting', 'IndoorGames', 'ShoppingMall',\n",
      "       'Intercom', 'SportsFacility', 'ATM', 'ClubHouse', 'School',\n",
      "       '24X7Security', 'PowerBackup', 'CarParking', 'StaffQuarter',\n",
      "       'Cafeteria', 'MultipurposeRoom', 'Hospital', 'WashingMachine',\n",
      "       'Gasconnection', 'AC', 'Wifi', 'Children'splayarea', 'LiftAvailable',\n",
      "       'BED', 'VaastuCompliant', 'Microwave', 'GolfCourse', 'TV',\n",
      "       'DiningTable', 'Sofa', 'Wardrobe', 'Refrigerator'],\n",
      "      dtype='object')\n"
     ]
    }
   ],
   "source": [
    "print(delhi.columns)"
   ]
  },
  {
   "cell_type": "code",
   "execution_count": 130,
   "metadata": {},
   "outputs": [
    {
     "data": {
      "text/html": [
       "<div>\n",
       "<style scoped>\n",
       "    .dataframe tbody tr th:only-of-type {\n",
       "        vertical-align: middle;\n",
       "    }\n",
       "\n",
       "    .dataframe tbody tr th {\n",
       "        vertical-align: top;\n",
       "    }\n",
       "\n",
       "    .dataframe thead th {\n",
       "        text-align: right;\n",
       "    }\n",
       "</style>\n",
       "<table border=\"1\" class=\"dataframe\">\n",
       "  <thead>\n",
       "    <tr style=\"text-align: right;\">\n",
       "      <th></th>\n",
       "      <th>Price</th>\n",
       "      <th>Area</th>\n",
       "      <th>No. of Bedrooms</th>\n",
       "      <th>Resale</th>\n",
       "      <th>MaintenanceStaff</th>\n",
       "      <th>Gymnasium</th>\n",
       "      <th>SwimmingPool</th>\n",
       "      <th>LandscapedGardens</th>\n",
       "      <th>JoggingTrack</th>\n",
       "      <th>RainWaterHarvesting</th>\n",
       "      <th>...</th>\n",
       "      <th>LiftAvailable</th>\n",
       "      <th>BED</th>\n",
       "      <th>VaastuCompliant</th>\n",
       "      <th>Microwave</th>\n",
       "      <th>GolfCourse</th>\n",
       "      <th>TV</th>\n",
       "      <th>DiningTable</th>\n",
       "      <th>Sofa</th>\n",
       "      <th>Wardrobe</th>\n",
       "      <th>Refrigerator</th>\n",
       "    </tr>\n",
       "  </thead>\n",
       "  <tbody>\n",
       "    <tr>\n",
       "      <th>count</th>\n",
       "      <td>4.998000e+03</td>\n",
       "      <td>4998.000000</td>\n",
       "      <td>4998.000000</td>\n",
       "      <td>4998.00000</td>\n",
       "      <td>4998.000000</td>\n",
       "      <td>4998.000000</td>\n",
       "      <td>4998.000000</td>\n",
       "      <td>4998.000000</td>\n",
       "      <td>4998.000000</td>\n",
       "      <td>4998.000000</td>\n",
       "      <td>...</td>\n",
       "      <td>4998.000000</td>\n",
       "      <td>4998.000000</td>\n",
       "      <td>4998.000000</td>\n",
       "      <td>4998.000000</td>\n",
       "      <td>4998.000000</td>\n",
       "      <td>4998.000000</td>\n",
       "      <td>4998.000000</td>\n",
       "      <td>4998.000000</td>\n",
       "      <td>4998.000000</td>\n",
       "      <td>4998.000000</td>\n",
       "    </tr>\n",
       "    <tr>\n",
       "      <th>mean</th>\n",
       "      <td>1.588638e+07</td>\n",
       "      <td>1277.343737</td>\n",
       "      <td>2.657863</td>\n",
       "      <td>0.80012</td>\n",
       "      <td>5.423770</td>\n",
       "      <td>5.472589</td>\n",
       "      <td>5.415966</td>\n",
       "      <td>5.435574</td>\n",
       "      <td>5.412765</td>\n",
       "      <td>5.437975</td>\n",
       "      <td>...</td>\n",
       "      <td>5.655662</td>\n",
       "      <td>5.416367</td>\n",
       "      <td>5.456783</td>\n",
       "      <td>5.413165</td>\n",
       "      <td>5.394958</td>\n",
       "      <td>5.415566</td>\n",
       "      <td>5.408764</td>\n",
       "      <td>5.412965</td>\n",
       "      <td>5.394958</td>\n",
       "      <td>5.411565</td>\n",
       "    </tr>\n",
       "    <tr>\n",
       "      <th>std</th>\n",
       "      <td>4.612894e+07</td>\n",
       "      <td>915.217800</td>\n",
       "      <td>0.820605</td>\n",
       "      <td>0.39995</td>\n",
       "      <td>4.378355</td>\n",
       "      <td>4.322819</td>\n",
       "      <td>4.387116</td>\n",
       "      <td>4.365041</td>\n",
       "      <td>4.390702</td>\n",
       "      <td>4.362324</td>\n",
       "      <td>...</td>\n",
       "      <td>4.102704</td>\n",
       "      <td>4.386668</td>\n",
       "      <td>4.340938</td>\n",
       "      <td>4.390254</td>\n",
       "      <td>4.410549</td>\n",
       "      <td>4.387565</td>\n",
       "      <td>4.395176</td>\n",
       "      <td>4.390478</td>\n",
       "      <td>4.410549</td>\n",
       "      <td>4.392045</td>\n",
       "    </tr>\n",
       "    <tr>\n",
       "      <th>min</th>\n",
       "      <td>2.000000e+06</td>\n",
       "      <td>200.000000</td>\n",
       "      <td>1.000000</td>\n",
       "      <td>0.00000</td>\n",
       "      <td>0.000000</td>\n",
       "      <td>0.000000</td>\n",
       "      <td>0.000000</td>\n",
       "      <td>0.000000</td>\n",
       "      <td>0.000000</td>\n",
       "      <td>0.000000</td>\n",
       "      <td>...</td>\n",
       "      <td>0.000000</td>\n",
       "      <td>0.000000</td>\n",
       "      <td>0.000000</td>\n",
       "      <td>0.000000</td>\n",
       "      <td>0.000000</td>\n",
       "      <td>0.000000</td>\n",
       "      <td>0.000000</td>\n",
       "      <td>0.000000</td>\n",
       "      <td>0.000000</td>\n",
       "      <td>0.000000</td>\n",
       "    </tr>\n",
       "    <tr>\n",
       "      <th>25%</th>\n",
       "      <td>2.900000e+06</td>\n",
       "      <td>800.000000</td>\n",
       "      <td>2.000000</td>\n",
       "      <td>1.00000</td>\n",
       "      <td>0.000000</td>\n",
       "      <td>0.000000</td>\n",
       "      <td>0.000000</td>\n",
       "      <td>0.000000</td>\n",
       "      <td>0.000000</td>\n",
       "      <td>0.000000</td>\n",
       "      <td>...</td>\n",
       "      <td>1.000000</td>\n",
       "      <td>0.000000</td>\n",
       "      <td>0.000000</td>\n",
       "      <td>0.000000</td>\n",
       "      <td>0.000000</td>\n",
       "      <td>0.000000</td>\n",
       "      <td>0.000000</td>\n",
       "      <td>0.000000</td>\n",
       "      <td>0.000000</td>\n",
       "      <td>0.000000</td>\n",
       "    </tr>\n",
       "    <tr>\n",
       "      <th>50%</th>\n",
       "      <td>5.500000e+06</td>\n",
       "      <td>1000.000000</td>\n",
       "      <td>3.000000</td>\n",
       "      <td>1.00000</td>\n",
       "      <td>9.000000</td>\n",
       "      <td>9.000000</td>\n",
       "      <td>9.000000</td>\n",
       "      <td>9.000000</td>\n",
       "      <td>9.000000</td>\n",
       "      <td>9.000000</td>\n",
       "      <td>...</td>\n",
       "      <td>9.000000</td>\n",
       "      <td>9.000000</td>\n",
       "      <td>9.000000</td>\n",
       "      <td>9.000000</td>\n",
       "      <td>9.000000</td>\n",
       "      <td>9.000000</td>\n",
       "      <td>9.000000</td>\n",
       "      <td>9.000000</td>\n",
       "      <td>9.000000</td>\n",
       "      <td>9.000000</td>\n",
       "    </tr>\n",
       "    <tr>\n",
       "      <th>75%</th>\n",
       "      <td>1.580000e+07</td>\n",
       "      <td>1650.000000</td>\n",
       "      <td>3.000000</td>\n",
       "      <td>1.00000</td>\n",
       "      <td>9.000000</td>\n",
       "      <td>9.000000</td>\n",
       "      <td>9.000000</td>\n",
       "      <td>9.000000</td>\n",
       "      <td>9.000000</td>\n",
       "      <td>9.000000</td>\n",
       "      <td>...</td>\n",
       "      <td>9.000000</td>\n",
       "      <td>9.000000</td>\n",
       "      <td>9.000000</td>\n",
       "      <td>9.000000</td>\n",
       "      <td>9.000000</td>\n",
       "      <td>9.000000</td>\n",
       "      <td>9.000000</td>\n",
       "      <td>9.000000</td>\n",
       "      <td>9.000000</td>\n",
       "      <td>9.000000</td>\n",
       "    </tr>\n",
       "    <tr>\n",
       "      <th>max</th>\n",
       "      <td>8.546000e+08</td>\n",
       "      <td>16000.000000</td>\n",
       "      <td>8.000000</td>\n",
       "      <td>1.00000</td>\n",
       "      <td>9.000000</td>\n",
       "      <td>9.000000</td>\n",
       "      <td>9.000000</td>\n",
       "      <td>9.000000</td>\n",
       "      <td>9.000000</td>\n",
       "      <td>9.000000</td>\n",
       "      <td>...</td>\n",
       "      <td>9.000000</td>\n",
       "      <td>9.000000</td>\n",
       "      <td>9.000000</td>\n",
       "      <td>9.000000</td>\n",
       "      <td>9.000000</td>\n",
       "      <td>9.000000</td>\n",
       "      <td>9.000000</td>\n",
       "      <td>9.000000</td>\n",
       "      <td>9.000000</td>\n",
       "      <td>9.000000</td>\n",
       "    </tr>\n",
       "  </tbody>\n",
       "</table>\n",
       "<p>8 rows × 39 columns</p>\n",
       "</div>"
      ],
      "text/plain": [
       "              Price          Area  No. of Bedrooms      Resale  \\\n",
       "count  4.998000e+03   4998.000000      4998.000000  4998.00000   \n",
       "mean   1.588638e+07   1277.343737         2.657863     0.80012   \n",
       "std    4.612894e+07    915.217800         0.820605     0.39995   \n",
       "min    2.000000e+06    200.000000         1.000000     0.00000   \n",
       "25%    2.900000e+06    800.000000         2.000000     1.00000   \n",
       "50%    5.500000e+06   1000.000000         3.000000     1.00000   \n",
       "75%    1.580000e+07   1650.000000         3.000000     1.00000   \n",
       "max    8.546000e+08  16000.000000         8.000000     1.00000   \n",
       "\n",
       "       MaintenanceStaff    Gymnasium  SwimmingPool  LandscapedGardens  \\\n",
       "count       4998.000000  4998.000000   4998.000000        4998.000000   \n",
       "mean           5.423770     5.472589      5.415966           5.435574   \n",
       "std            4.378355     4.322819      4.387116           4.365041   \n",
       "min            0.000000     0.000000      0.000000           0.000000   \n",
       "25%            0.000000     0.000000      0.000000           0.000000   \n",
       "50%            9.000000     9.000000      9.000000           9.000000   \n",
       "75%            9.000000     9.000000      9.000000           9.000000   \n",
       "max            9.000000     9.000000      9.000000           9.000000   \n",
       "\n",
       "       JoggingTrack  RainWaterHarvesting  ...  LiftAvailable          BED  \\\n",
       "count   4998.000000          4998.000000  ...    4998.000000  4998.000000   \n",
       "mean       5.412765             5.437975  ...       5.655662     5.416367   \n",
       "std        4.390702             4.362324  ...       4.102704     4.386668   \n",
       "min        0.000000             0.000000  ...       0.000000     0.000000   \n",
       "25%        0.000000             0.000000  ...       1.000000     0.000000   \n",
       "50%        9.000000             9.000000  ...       9.000000     9.000000   \n",
       "75%        9.000000             9.000000  ...       9.000000     9.000000   \n",
       "max        9.000000             9.000000  ...       9.000000     9.000000   \n",
       "\n",
       "       VaastuCompliant    Microwave   GolfCourse           TV  DiningTable  \\\n",
       "count      4998.000000  4998.000000  4998.000000  4998.000000  4998.000000   \n",
       "mean          5.456783     5.413165     5.394958     5.415566     5.408764   \n",
       "std           4.340938     4.390254     4.410549     4.387565     4.395176   \n",
       "min           0.000000     0.000000     0.000000     0.000000     0.000000   \n",
       "25%           0.000000     0.000000     0.000000     0.000000     0.000000   \n",
       "50%           9.000000     9.000000     9.000000     9.000000     9.000000   \n",
       "75%           9.000000     9.000000     9.000000     9.000000     9.000000   \n",
       "max           9.000000     9.000000     9.000000     9.000000     9.000000   \n",
       "\n",
       "              Sofa     Wardrobe  Refrigerator  \n",
       "count  4998.000000  4998.000000   4998.000000  \n",
       "mean      5.412965     5.394958      5.411565  \n",
       "std       4.390478     4.410549      4.392045  \n",
       "min       0.000000     0.000000      0.000000  \n",
       "25%       0.000000     0.000000      0.000000  \n",
       "50%       9.000000     9.000000      9.000000  \n",
       "75%       9.000000     9.000000      9.000000  \n",
       "max       9.000000     9.000000      9.000000  \n",
       "\n",
       "[8 rows x 39 columns]"
      ]
     },
     "execution_count": 130,
     "metadata": {},
     "output_type": "execute_result"
    }
   ],
   "source": [
    "delhi.describe()"
   ]
  },
  {
   "cell_type": "code",
   "execution_count": 131,
   "metadata": {
    "execution": {
     "iopub.execute_input": "2020-09-12T18:44:28.274577Z",
     "iopub.status.busy": "2020-09-12T18:44:28.273872Z",
     "iopub.status.idle": "2020-09-12T18:44:28.283101Z",
     "shell.execute_reply": "2020-09-12T18:44:28.282488Z"
    },
    "papermill": {
     "duration": 0.029248,
     "end_time": "2020-09-12T18:44:28.283234",
     "exception": false,
     "start_time": "2020-09-12T18:44:28.253986",
     "status": "completed"
    },
    "tags": []
   },
   "outputs": [],
   "source": [
    "delhi.rename(columns={\"No. of Bedrooms\":\"Bedrooms\", \"24X7Security\":\"Security\",\"Children'splayarea\":\"Playarea\"}, inplace=True)"
   ]
  },
  {
   "cell_type": "code",
   "execution_count": 132,
   "metadata": {
    "execution": {
     "iopub.execute_input": "2020-09-12T18:44:28.322536Z",
     "iopub.status.busy": "2020-09-12T18:44:28.321694Z",
     "iopub.status.idle": "2020-09-12T18:44:28.325799Z",
     "shell.execute_reply": "2020-09-12T18:44:28.325121Z"
    },
    "papermill": {
     "duration": 0.026436,
     "end_time": "2020-09-12T18:44:28.325911",
     "exception": false,
     "start_time": "2020-09-12T18:44:28.299475",
     "status": "completed"
    },
    "tags": []
   },
   "outputs": [],
   "source": [
    "y1=np.log(delhi[\"Price\"])"
   ]
  },
  {
   "cell_type": "code",
   "execution_count": 133,
   "metadata": {
    "execution": {
     "iopub.execute_input": "2020-09-12T18:44:28.364881Z",
     "iopub.status.busy": "2020-09-12T18:44:28.364142Z",
     "iopub.status.idle": "2020-09-12T18:44:28.639305Z",
     "shell.execute_reply": "2020-09-12T18:44:28.638619Z"
    },
    "papermill": {
     "duration": 0.297386,
     "end_time": "2020-09-12T18:44:28.639433",
     "exception": false,
     "start_time": "2020-09-12T18:44:28.342047",
     "status": "completed"
    },
    "tags": []
   },
   "outputs": [
    {
     "data": {
      "text/plain": [
       "<matplotlib.axes._subplots.AxesSubplot at 0x7f5fa081b310>"
      ]
     },
     "execution_count": 133,
     "metadata": {},
     "output_type": "execute_result"
    },
    {
     "data": {
      "image/png": "[encoded data removed]",
      "text/plain": [
       "<Figure size 432x288 with 1 Axes>"
      ]
     },
     "metadata": {
      "needs_background": "light"
     },
     "output_type": "display_data"
    }
   ],
   "source": [
    "sns.regplot(x=\"Area\",y=y1,data=delhi,fit_reg=False)"
   ]
  },
  {
   "cell_type": "markdown",
   "metadata": {},
   "source": [
    "here we see, that when area>8000 there aren't many options,and hence they are outliers."
   ]
  },
  {
   "cell_type": "code",
   "execution_count": 134,
   "metadata": {
    "execution": {
     "iopub.execute_input": "2020-09-12T18:44:28.681456Z",
     "iopub.status.busy": "2020-09-12T18:44:28.680415Z",
     "iopub.status.idle": "2020-09-12T18:44:28.709190Z",
     "shell.execute_reply": "2020-09-12T18:44:28.708077Z"
    },
    "papermill": {
     "duration": 0.052147,
     "end_time": "2020-09-12T18:44:28.709344",
     "exception": false,
     "start_time": "2020-09-12T18:44:28.657197",
     "status": "completed"
    },
    "tags": []
   },
   "outputs": [],
   "source": [
    "delhi.drop(delhi[delhi[\"Area\"]>=8000].index,inplace=True)\n"
   ]
  },
  {
   "cell_type": "code",
   "execution_count": 135,
   "metadata": {
    "execution": {
     "iopub.execute_input": "2020-09-12T18:44:28.752096Z",
     "iopub.status.busy": "2020-09-12T18:44:28.750860Z",
     "iopub.status.idle": "2020-09-12T18:44:28.948977Z",
     "shell.execute_reply": "2020-09-12T18:44:28.948408Z"
    },
    "papermill": {
     "duration": 0.221662,
     "end_time": "2020-09-12T18:44:28.949115",
     "exception": false,
     "start_time": "2020-09-12T18:44:28.727453",
     "status": "completed"
    },
    "tags": []
   },
   "outputs": [
    {
     "data": {
      "text/plain": [
       "<matplotlib.axes._subplots.AxesSubplot at 0x7f5fa08411c0>"
      ]
     },
     "execution_count": 135,
     "metadata": {},
     "output_type": "execute_result"
    },
    {
     "data": {
      "image/png": "[encoded data removed]",
      "text/plain": [
       "<Figure size 432x288 with 1 Axes>"
      ]
     },
     "metadata": {
      "needs_background": "light"
     },
     "output_type": "display_data"
    }
   ],
   "source": [
    "y1=np.log(delhi[\"Price\"])\n",
    "sns.regplot(x=\"Area\",y=y1,data=delhi,fit_reg=False)"
   ]
  },
  {
   "cell_type": "code",
   "execution_count": 136,
   "metadata": {
    "execution": {
     "iopub.execute_input": "2020-09-12T18:44:29.011387Z",
     "iopub.status.busy": "2020-09-12T18:44:29.010612Z",
     "iopub.status.idle": "2020-09-12T18:44:29.146338Z",
     "shell.execute_reply": "2020-09-12T18:44:29.145614Z"
    },
    "papermill": {
     "duration": 0.177566,
     "end_time": "2020-09-12T18:44:29.146458",
     "exception": false,
     "start_time": "2020-09-12T18:44:28.968892",
     "status": "completed"
    },
    "tags": []
   },
   "outputs": [
    {
     "data": {
      "text/plain": [
       "<matplotlib.axes._subplots.AxesSubplot at 0x7f5fa0756c70>"
      ]
     },
     "execution_count": 136,
     "metadata": {},
     "output_type": "execute_result"
    },
    {
     "data": {
      "image/png": "[encoded data removed]",
      "text/plain": [
       "<Figure size 432x288 with 1 Axes>"
      ]
     },
     "metadata": {
      "needs_background": "light"
     },
     "output_type": "display_data"
    }
   ],
   "source": [
    "sns.countplot(x=delhi[\"IndoorGames\"],data=delhi)"
   ]
  },
  {
   "cell_type": "code",
   "execution_count": 137,
   "metadata": {
    "execution": {
     "iopub.execute_input": "2020-09-12T18:44:29.205595Z",
     "iopub.status.busy": "2020-09-12T18:44:29.203688Z",
     "iopub.status.idle": "2020-09-12T18:44:29.393277Z",
     "shell.execute_reply": "2020-09-12T18:44:29.392640Z"
    },
    "papermill": {
     "duration": 0.226529,
     "end_time": "2020-09-12T18:44:29.393428",
     "exception": false,
     "start_time": "2020-09-12T18:44:29.166899",
     "status": "completed"
    },
    "tags": []
   },
   "outputs": [
    {
     "data": {
      "text/plain": [
       "<matplotlib.axes._subplots.AxesSubplot at 0x7f5fa0706d00>"
      ]
     },
     "execution_count": 137,
     "metadata": {},
     "output_type": "execute_result"
    },
    {
     "data": {
      "image/png": "[encoded data removed]",
      "text/plain": [
       "<Figure size 432x288 with 1 Axes>"
      ]
     },
     "metadata": {
      "needs_background": "light"
     },
     "output_type": "display_data"
    }
   ],
   "source": [
    "sns.countplot(x=delhi[\"Gymnasium\"],data=delhi)"
   ]
  },
  {
   "cell_type": "code",
   "execution_count": 138,
   "metadata": {
    "execution": {
     "iopub.execute_input": "2020-09-12T18:44:29.445700Z",
     "iopub.status.busy": "2020-09-12T18:44:29.444835Z",
     "iopub.status.idle": "2020-09-12T18:44:29.580352Z",
     "shell.execute_reply": "2020-09-12T18:44:29.579762Z"
    },
    "papermill": {
     "duration": 0.164648,
     "end_time": "2020-09-12T18:44:29.580477",
     "exception": false,
     "start_time": "2020-09-12T18:44:29.415829",
     "status": "completed"
    },
    "tags": []
   },
   "outputs": [
    {
     "data": {
      "text/plain": [
       "<matplotlib.axes._subplots.AxesSubplot at 0x7f5fa06c5d30>"
      ]
     },
     "execution_count": 138,
     "metadata": {},
     "output_type": "execute_result"
    },
    {
     "data": {
      "image/png": "[encoded data removed]",
      "text/plain": [
       "<Figure size 432x288 with 1 Axes>"
      ]
     },
     "metadata": {
      "needs_background": "light"
     },
     "output_type": "display_data"
    }
   ],
   "source": [
    "sns.countplot(x=\"SwimmingPool\",data=delhi)"
   ]
  },
  {
   "cell_type": "markdown",
   "metadata": {
    "papermill": {
     "duration": 0.024186,
     "end_time": "2020-09-12T18:44:29.834419",
     "exception": false,
     "start_time": "2020-09-12T18:44:29.810233",
     "status": "completed"
    },
    "tags": []
   },
   "source": [
    "Similarly for other aminities we can see that the number of not mentioned are very large. This will not help us in predicting the accurate price of the property. So we will remove all the rows containing not mentioned or 9"
   ]
  },
  {
   "cell_type": "code",
   "execution_count": 139,
   "metadata": {
    "execution": {
     "iopub.execute_input": "2020-09-12T18:44:29.889579Z",
     "iopub.status.busy": "2020-09-12T18:44:29.888844Z",
     "iopub.status.idle": "2020-09-12T18:44:29.907548Z",
     "shell.execute_reply": "2020-09-12T18:44:29.906955Z"
    },
    "papermill": {
     "duration": 0.049093,
     "end_time": "2020-09-12T18:44:29.907672",
     "exception": false,
     "start_time": "2020-09-12T18:44:29.858579",
     "status": "completed"
    },
    "tags": []
   },
   "outputs": [],
   "source": [
    "delhi.replace(9,np.nan,inplace=True)\n",
    "delhi.dropna(axis=0,how=\"any\",inplace=True)"
   ]
  },
  {
   "cell_type": "code",
   "execution_count": 140,
   "metadata": {
    "execution": {
     "iopub.execute_input": "2020-09-12T18:44:29.969481Z",
     "iopub.status.busy": "2020-09-12T18:44:29.968747Z",
     "iopub.status.idle": "2020-09-12T18:44:30.067642Z",
     "shell.execute_reply": "2020-09-12T18:44:30.066612Z"
    },
    "papermill": {
     "duration": 0.135437,
     "end_time": "2020-09-12T18:44:30.067822",
     "exception": false,
     "start_time": "2020-09-12T18:44:29.932385",
     "status": "completed"
    },
    "tags": []
   },
   "outputs": [
    {
     "name": "stdout",
     "output_type": "stream",
     "text": [
      "                            OLS Regression Results                            \n",
      "==============================================================================\n",
      "Dep. Variable:                  Price   R-squared:                       0.838\n",
      "Model:                            OLS   Adj. R-squared:                  0.836\n",
      "Method:                 Least Squares   F-statistic:                     538.4\n",
      "Date:                Sun, 14 Nov 2021   Prob (F-statistic):               0.00\n",
      "Time:                        18:46:12   Log-Likelihood:                -583.76\n",
      "No. Observations:                2002   AIC:                             1208.\n",
      "Df Residuals:                    1982   BIC:                             1320.\n",
      "Df Model:                          19                                         \n",
      "Covariance Type:            nonrobust                                         \n",
      "=======================================================================================\n",
      "                          coef    std err          t      P>|t|      [0.025      0.975]\n",
      "---------------------------------------------------------------------------------------\n",
      "const                  14.3230      0.035    411.836      0.000      14.255      14.391\n",
      "Area                    0.0007   2.22e-05     33.563      0.000       0.001       0.001\n",
      "Location                0.0013      0.000      5.650      0.000       0.001       0.002\n",
      "Bedrooms                0.1344      0.015      9.034      0.000       0.105       0.164\n",
      "Resale                  0.2093      0.021      9.955      0.000       0.168       0.250\n",
      "Gymnasium              -0.0944      0.023     -4.042      0.000      -0.140      -0.049\n",
      "JoggingTrack            0.1103      0.059      1.858      0.063      -0.006       0.227\n",
      "RainWaterHarvesting     0.3034      0.040      7.493      0.000       0.224       0.383\n",
      "IndoorGames            -0.2734      0.090     -3.047      0.002      -0.449      -0.097\n",
      "Intercom               -0.0680      0.020     -3.477      0.001      -0.106      -0.030\n",
      "School                  0.5979      0.250      2.388      0.017       0.107       1.089\n",
      "Security               -0.2633      0.056     -4.703      0.000      -0.373      -0.153\n",
      "PowerBackup             0.0702      0.024      2.972      0.003       0.024       0.117\n",
      "CarParking              0.1280      0.022      5.787      0.000       0.085       0.171\n",
      "Hospital               -0.5228      0.263     -1.990      0.047      -1.038      -0.008\n",
      "Gasconnection           0.2493      0.023     11.062      0.000       0.205       0.293\n",
      "AC                      0.1575      0.029      5.440      0.000       0.101       0.214\n",
      "Playarea                0.2115      0.023      9.027      0.000       0.166       0.257\n",
      "LiftAvailable          -0.2332      0.017    -13.652      0.000      -0.267      -0.200\n",
      "VaastuCompliant        -0.1580      0.024     -6.531      0.000      -0.205      -0.111\n",
      "==============================================================================\n",
      "Omnibus:                      190.928   Durbin-Watson:                   1.288\n",
      "Prob(Omnibus):                  0.000   Jarque-Bera (JB):              497.291\n",
      "Skew:                           0.533   Prob(JB):                    1.03e-108\n",
      "Kurtosis:                       5.196   Cond. No.                     6.68e+04\n",
      "==============================================================================\n",
      "\n",
      "Notes:\n",
      "[1] Standard Errors assume that the covariance matrix of the errors is correctly specified.\n",
      "[2] The condition number is large, 6.68e+04. This might indicate that there are\n",
      "strong multicollinearity or other numerical problems.\n"
     ]
    }
   ],
   "source": [
    "le_location=LabelEncoder()\n",
    "delhi[\"Location\"]=le_location.fit_transform(delhi[\"Location\"])\n",
    "\n",
    "\n",
    "x1=delhi.drop([\"Price\",\"MaintenanceStaff\",\"SwimmingPool\",\"LandscapedGardens\",\"ShoppingMall\",\"SportsFacility\",\"ATM\",\"ClubHouse\",\"StaffQuarter\",\"Cafeteria\",\"MultipurposeRoom\",\"WashingMachine\",\"Wifi\",\"BED\",\"Microwave\",\"DiningTable\",\"Wardrobe\",\"Sofa\",\"Refrigerator\",\"GolfCourse\",\"TV\"],axis=1,inplace=False)\n",
    "x1=sm.add_constant(x1)\n",
    "y1=np.log(delhi[\"Price\"])\n",
    "model=sm.OLS(y1,x1).fit()\n",
    "print(model.summary())"
   ]
  },
  {
   "cell_type": "code",
   "execution_count": 141,
   "metadata": {
    "execution": {
     "iopub.execute_input": "2020-09-12T18:44:30.135933Z",
     "iopub.status.busy": "2020-09-12T18:44:30.131072Z",
     "iopub.status.idle": "2020-09-12T18:44:30.358144Z",
     "shell.execute_reply": "2020-09-12T18:44:30.357394Z"
    },
    "papermill": {
     "duration": 0.260558,
     "end_time": "2020-09-12T18:44:30.358311",
     "exception": false,
     "start_time": "2020-09-12T18:44:30.097753",
     "status": "completed"
    },
    "tags": []
   },
   "outputs": [
    {
     "name": "stderr",
     "output_type": "stream",
     "text": [
      "/home/dev4901/.local/lib/python3.8/site-packages/seaborn/_decorators.py:36: FutureWarning: Pass the following variables as keyword args: x, y. From version 0.12, the only valid positional argument will be `data`, and passing other arguments without an explicit keyword will result in an error or misinterpretation.\n",
      "  warnings.warn(\n"
     ]
    },
    {
     "data": {
      "text/plain": [
       "<matplotlib.axes._subplots.AxesSubplot at 0x7f5fa06f3dc0>"
      ]
     },
     "execution_count": 141,
     "metadata": {},
     "output_type": "execute_result"
    },
    {
     "data": {
      "image/png": "[encoded data removed]",
      "text/plain": [
       "<Figure size 432x288 with 1 Axes>"
      ]
     },
     "metadata": {
      "needs_background": "light"
     },
     "output_type": "display_data"
    }
   ],
   "source": [
    "delhi.drop([\"MaintenanceStaff\",\"SwimmingPool\",\"LandscapedGardens\",\"ShoppingMall\",\"SportsFacility\",\"ATM\",\"ClubHouse\",\"StaffQuarter\",\"Cafeteria\",\"MultipurposeRoom\",\"WashingMachine\",\"Wifi\",\"BED\",\"Microwave\",\"DiningTable\",\"Wardrobe\",\"Sofa\",\"Refrigerator\",\"GolfCourse\",\"TV\"],axis=1,inplace=True)\n",
    "\n",
    "x=delhi.drop(\"Price\",axis=1,inplace=False)\n",
    "x=x.values\n",
    "y=np.log(delhi[\"Price\"]).values\n",
    "x_train,x_test,y_train,y_test=train_test_split(x,y,test_size=0.2,random_state=0)\n",
    "lgr=LinearRegression(fit_intercept=True)\n",
    "model_1=lgr.fit(x_train,y_train)\n",
    "prediction=lgr.predict(x_test)\n",
    "residual=y_test-prediction\n",
    "sns.regplot(prediction,residual,fit_reg=False)"
   ]
  },
  {
   "cell_type": "code",
   "execution_count": 142,
   "metadata": {
    "execution": {
     "iopub.execute_input": "2020-09-12T18:44:30.423863Z",
     "iopub.status.busy": "2020-09-12T18:44:30.423005Z",
     "iopub.status.idle": "2020-09-12T18:44:30.425773Z",
     "shell.execute_reply": "2020-09-12T18:44:30.426472Z"
    },
    "papermill": {
     "duration": 0.038807,
     "end_time": "2020-09-12T18:44:30.426626",
     "exception": false,
     "start_time": "2020-09-12T18:44:30.387819",
     "status": "completed"
    },
    "tags": []
   },
   "outputs": [
    {
     "name": "stdout",
     "output_type": "stream",
     "text": [
      "0.8576641158515688\n"
     ]
    }
   ],
   "source": [
    "print(model_1.score(x_test,y_test))"
   ]
  },
  {
   "cell_type": "code",
   "execution_count": 143,
   "metadata": {
    "execution": {
     "iopub.execute_input": "2020-09-12T18:44:30.484488Z",
     "iopub.status.busy": "2020-09-12T18:44:30.483705Z",
     "iopub.status.idle": "2020-09-12T18:44:30.491367Z",
     "shell.execute_reply": "2020-09-12T18:44:30.490444Z"
    },
    "papermill": {
     "duration": 0.037769,
     "end_time": "2020-09-12T18:44:30.491541",
     "exception": false,
     "start_time": "2020-09-12T18:44:30.453772",
     "status": "completed"
    },
    "tags": []
   },
   "outputs": [
    {
     "name": "stdout",
     "output_type": "stream",
     "text": [
      "0.8576641158515688\n"
     ]
    }
   ],
   "source": [
    "print(r2_score(y_test,prediction))"
   ]
  },
  {
   "cell_type": "code",
   "execution_count": 144,
   "metadata": {
    "execution": {
     "iopub.execute_input": "2020-09-12T18:44:30.553807Z",
     "iopub.status.busy": "2020-09-12T18:44:30.552932Z",
     "iopub.status.idle": "2020-09-12T18:44:30.556807Z",
     "shell.execute_reply": "2020-09-12T18:44:30.556135Z"
    },
    "papermill": {
     "duration": 0.037107,
     "end_time": "2020-09-12T18:44:30.556926",
     "exception": false,
     "start_time": "2020-09-12T18:44:30.519819",
     "status": "completed"
    },
    "tags": []
   },
   "outputs": [
    {
     "name": "stdout",
     "output_type": "stream",
     "text": [
      "0.291147935425969\n"
     ]
    }
   ],
   "source": [
    "print(np.sqrt(mean_squared_error(y_test,prediction)))"
   ]
  }
 ],
 "metadata": {
  "interpreter": {
   "hash": "e7370f93d1d0cde622a1f8e1c04877d8463912d04d973331ad4851f04de6915a"
  },
  "kernelspec": {
   "display_name": "Python 3.8.10 64-bit",
   "name": "python3"
  },
  "language_info": {
   "codemirror_mode": {
    "name": "ipython",
    "version": 3
   },
   "file_extension": ".py",
   "mimetype": "text/x-python",
   "name": "python",
   "nbconvert_exporter": "python",
   "pygments_lexer": "ipython3",
   "version": "3.8.10"
  },
  "papermill": {
   "duration": 11.08613,
   "end_time": "2020-09-12T18:44:31.594396",
   "environment_variables": {},
   "exception": null,
   "input_path": "__notebook__.ipynb",
   "output_path": "__notebook__.ipynb",
   "parameters": {},
   "start_time": "2020-09-12T18:44:20.508266",
   "version": "2.1.0"
  }
 },
 "nbformat": 4,
 "nbformat_minor": 4
}
